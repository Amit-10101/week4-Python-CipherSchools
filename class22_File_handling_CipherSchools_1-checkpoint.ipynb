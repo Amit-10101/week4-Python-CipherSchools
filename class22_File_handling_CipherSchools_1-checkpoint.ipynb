{
 "cells": [
  {
   "cell_type": "markdown",
   "metadata": {
    "colab_type": "text",
    "id": "view-in-github"
   },
   "source": [
    "<a href=\"https://colab.research.google.com/github/githubtanush/week4-Python-CipherSchools/blob/main/class22_File_handling_CipherSchools.ipynb\" target=\"_parent\"><img src=\"https://colab.research.google.com/assets/colab-badge.svg\" alt=\"Open In Colab\"/></a>"
   ]
  },
  {
   "cell_type": "code",
   "execution_count": 5,
   "metadata": {
    "id": "veB7WfNxJjLa"
   },
   "outputs": [
    {
     "name": "stdout",
     "output_type": "stream",
     "text": [
      "{\n",
      "  \"nbformat\": 4,\n",
      "  \"nbformat_minor\": 0,\n",
      "  \"metadata\": {\n",
      "    \"colab\": {\n",
      "      \"provenance\": [],\n",
      "      \"authorship_tag\": \"ABX9TyPNEzQIaZVhUT14hRN0FM/5\",\n",
      "      \"include_colab_link\": true\n",
      "    },\n",
      "    \"kernelspec\": {\n",
      "      \"name\": \"python3\",\n",
      "      \"display_name\": \"Python 3\"\n",
      "    },\n",
      "    \"language_info\": {\n",
      "      \"name\": \"python\"\n",
      "    }\n",
      "  },\n",
      "  \"cells\": [\n",
      "    {\n",
      "      \"cell_type\": \"markdown\",\n",
      "      \"metadata\": {\n",
      "        \"id\": \"view-in-github\",\n",
      "        \"colab_type\": \"text\"\n",
      "      },\n",
      "      \"source\": [\n",
      "        \"<a href=\\\"https://colab.research.google.com/github/githubtanush/week4-Python-CipherSchools/blob/main/sample_txt.ipynb\\\" target=\\\"_parent\\\"><img src=\\\"https://colab.research.google.com/assets/colab-badge.svg\\\" alt=\\\"Open In Colab\\\"/></a>\"\n",
      "      ]\n",
      "    },\n",
      "    {\n",
      "      \"cell_type\": \"code\",\n",
      "      \"execution_count\": null,\n",
      "      \"metadata\": {\n",
      "        \"id\": \"MEk726l_Opjn\"\n",
      "      },\n",
      "      \"outputs\": [],\n",
      "      \"source\": [\n",
      "        \"Amit\\n\",\n",
      "        \"Kshitez\\n\",\n",
      "        \"Anurag\\n\",\n",
      "        \"Shashi\\n\",\n",
      "        \"Chander\"\n",
      "      ]\n",
      "    }\n",
      "  ]\n",
      "}\n",
      "Amit Kumar\n",
      " new lineamitparthkshitezanuragamitparthkshitezanurag\n"
     ]
    }
   ],
   "source": [
    "file=open(\"random.txt\",\"w\")\n",
    "file.write(\"blah blah blah\")\n",
    "file.close()\n",
    "file=open(\"random.txt\",\"w\")\n",
    "file.write(\"Amit Kumar\")\n",
    "file.write(\"\\n new line\")\n",
    "a=[\"amit\",\"parth\",\"kshitez\",\"anurag\"]\n",
    "file.writelines(a)\n",
    "for i in a:\n",
    "    file.write(i)\n",
    "file.close()\n",
    "\n",
    "# Reading from a file\n",
    "file = open(\"sample.txt\",\"r\")\n",
    "print(file.read())\n",
    "\n",
    "# Smarter way of opening files...\n",
    "with open(\"random.txt\",\"r\") as file:\n",
    "    print(file.read())"
   ]
  },
  {
   "cell_type": "code",
   "execution_count": null,
   "metadata": {},
   "outputs": [],
   "source": []
  }
 ],
 "metadata": {
  "colab": {
   "authorship_tag": "ABX9TyNlkRu1heKJgDjtqZ9Tief/",
   "include_colab_link": true,
   "provenance": []
  },
  "kernelspec": {
   "display_name": "Python 3 (ipykernel)",
   "language": "python",
   "name": "python3"
  },
  "language_info": {
   "codemirror_mode": {
    "name": "ipython",
    "version": 3
   },
   "file_extension": ".py",
   "mimetype": "text/x-python",
   "name": "python",
   "nbconvert_exporter": "python",
   "pygments_lexer": "ipython3",
   "version": "3.11.0"
  }
 },
 "nbformat": 4,
 "nbformat_minor": 1
}
